{
  "nbformat": 4,
  "nbformat_minor": 0,
  "metadata": {
    "colab": {
      "provenance": []
    },
    "kernelspec": {
      "name": "python3",
      "display_name": "Python 3"
    },
    "language_info": {
      "name": "python"
    }
  },
  "cells": [
    {
      "cell_type": "markdown",
      "source": [
        "Faça um programa que tenha uma função chamada amplitude. A função deve receber uma lista e\n",
        "imprimir a amplitude.\n",
        "Crie também um código para testar sua função"
      ],
      "metadata": {
        "id": "yZdnqVMSPJJP"
      }
    },
    {
      "cell_type": "code",
      "execution_count": 2,
      "metadata": {
        "colab": {
          "base_uri": "https://localhost:8080/"
        },
        "id": "a7nHpEfUPAV8",
        "outputId": "2c4b4e28-f6fb-49e9-de9d-d690d13ebbb3"
      },
      "outputs": [
        {
          "output_type": "stream",
          "name": "stdout",
          "text": [
            "A amplitude da lista é 3\n"
          ]
        }
      ],
      "source": [
        "def amplitude (lista):\n",
        "  print(f\"A amplitude da lista é {max(lista) - min(lista)}\")\n",
        "\n",
        "lista_teste = [2,3,4,5]\n",
        "\n",
        "amplitude(lista_teste)"
      ]
    },
    {
      "cell_type": "markdown",
      "source": [
        "Faça uma função que receba uma string e imprima esta string na forma vertical"
      ],
      "metadata": {
        "id": "WAYf9ON6QeBl"
      }
    },
    {
      "cell_type": "code",
      "source": [
        "def vertical (string):\n",
        "  for i in string:\n",
        "    print(i)\n",
        "\n",
        "string = \"Murilo\"\n",
        "\n",
        "vertical(\"string\")"
      ],
      "metadata": {
        "colab": {
          "base_uri": "https://localhost:8080/"
        },
        "id": "H-9C6_HyQv0h",
        "outputId": "ae8ea29d-4e9c-40eb-c699-9100e7f26f0f"
      },
      "execution_count": 4,
      "outputs": [
        {
          "output_type": "stream",
          "name": "stdout",
          "text": [
            "s\n",
            "t\n",
            "r\n",
            "i\n",
            "n\n",
            "g\n"
          ]
        }
      ]
    },
    {
      "cell_type": "markdown",
      "source": [
        "Crie um programa que leia o peso de uma carga em números inteiros. Se o peso for até 10 kg, informe\n",
        "que o valor será de 50 reais. \n",
        "Entre 11 e 20 kg, informe que o valor será de 80 reais. Se for maior que 20\n",
        "informe que o transporte não é aceito. Teste vários pesos."
      ],
      "metadata": {
        "id": "__tI3g28RRbs"
      }
    },
    {
      "cell_type": "code",
      "source": [
        "def precifica_carga (carga):\n",
        "  if carga <= 10:\n",
        "    print(\"Valor R$ 50,00\")\n",
        "  elif carga > 10 and carga <= 20:\n",
        "    print(\"Valor R$ 80,00\")\n",
        "  else: print('Transporte não aceito')\n",
        "\n",
        "precifica_carga(9)\n",
        "\n",
        "precifica_carga(11)\n",
        "\n",
        "precifica_carga(21)"
      ],
      "metadata": {
        "colab": {
          "base_uri": "https://localhost:8080/"
        },
        "id": "oNkMlgKgRCL4",
        "outputId": "12feeccf-2d9b-49ad-8d5a-861b7fbf341a"
      },
      "execution_count": 5,
      "outputs": [
        {
          "output_type": "stream",
          "name": "stdout",
          "text": [
            "Valor R$ 50,00\n",
            "Valor R$ 80,00\n",
            "Transporte não aceito\n"
          ]
        }
      ]
    },
    {
      "cell_type": "code",
      "source": [],
      "metadata": {
        "id": "sn05iCaNSvq5"
      },
      "execution_count": null,
      "outputs": []
    }
  ]
}