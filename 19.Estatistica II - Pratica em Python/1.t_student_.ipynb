{
  "cells": [
    {
      "cell_type": "code",
      "execution_count": null,
      "metadata": {
        "id": "I6RnrSitBOiC"
      },
      "outputs": [],
      "source": [
        "# Formação Cientista de Dados - Fernando Amaral e Jones Granatyr\n",
        "# Distribuição T Student"
      ]
    },
    {
      "cell_type": "code",
      "execution_count": 2,
      "metadata": {
        "id": "B7erDGY7BOiE"
      },
      "outputs": [],
      "source": [
        "# Importação da função para fazer o teste\n",
        "from scipy.stats import t"
      ]
    },
    {
      "cell_type": "markdown",
      "metadata": {
        "id": "TZXNzuD-BOiE"
      },
      "source": [
        "Média de salário dos cientistas de dados = R$ 75,00 por hora\n",
        "Amostra com 9 funcionários e desvio padrão = 10"
      ]
    },
    {
      "cell_type": "code",
      "execution_count": 7,
      "metadata": {
        "colab": {
          "base_uri": "https://localhost:8080/"
        },
        "id": "BEKtotSnBOiF",
        "outputId": "da93dcd3-16f8-407d-9c1a-8c10329d9469"
      },
      "outputs": [
        {
          "output_type": "execute_result",
          "data": {
            "text/plain": [
              "0.9139983540240443"
            ]
          },
          "metadata": {},
          "execution_count": 7
        }
      ],
      "source": [
        "# Qual a probabilidade de selecionar um cientista de dados e o salário ser menor que R$ 80 por hora\n",
        "t.cdf(1.5, 8)"
      ]
    },
    {
      "cell_type": "code",
      "execution_count": 4,
      "metadata": {
        "colab": {
          "base_uri": "https://localhost:8080/"
        },
        "id": "Fbrb0YDyBOiG",
        "outputId": "74d05f3a-a389-4c81-f2b5-e971fc193277"
      },
      "outputs": [
        {
          "output_type": "execute_result",
          "data": {
            "text/plain": [
              "0.08600164597595565"
            ]
          },
          "metadata": {},
          "execution_count": 4
        }
      ],
      "source": [
        "# Qual a probabilidade do salário ser maior do que 80?\n",
        "t.sf(1.5, 8)"
      ]
    },
    {
      "cell_type": "code",
      "execution_count": 5,
      "metadata": {
        "colab": {
          "base_uri": "https://localhost:8080/"
        },
        "id": "fWjrMsRzBOiG",
        "outputId": "1eb85ad6-0860-49d3-93b1-599c150888bb"
      },
      "outputs": [
        {
          "output_type": "execute_result",
          "data": {
            "text/plain": [
              "0.9999999999999999"
            ]
          },
          "metadata": {},
          "execution_count": 5
        }
      ],
      "source": [
        "# Somatório da execução dos dois códigos acima (lado esquerdo + lado direito da distribuição)\n",
        "t.cdf(1.5, 8) + t.sf(1.5, 8)"
      ]
    },
    {
      "cell_type": "markdown",
      "source": [
        "Inclusão de outra forma de obter o valor T"
      ],
      "metadata": {
        "id": "8JQxH2k-B_bb"
      }
    },
    {
      "cell_type": "code",
      "execution_count": 1,
      "metadata": {
        "colab": {
          "base_uri": "https://localhost:8080/"
        },
        "id": "ju_GO_x0BOiG",
        "outputId": "c057ac10-87ed-4079-8b7f-43f1c946047b"
      },
      "outputs": [
        {
          "output_type": "stream",
          "name": "stdout",
          "text": [
            "Valor de t: 1.8595480375228424\n",
            "Intervalo de confiança: 68.80150654159053 - 81.19849345840947\n"
          ]
        }
      ],
      "source": [
        "import scipy.stats as stats\n",
        "\n",
        "t_value = stats.t.ppf(0.95, df=8)  # df = tamanho da amostra - 1\n",
        "\n",
        "amostra_tamanho = 9\n",
        "media_amostra = 75\n",
        "desvio_padrao_amostra = 10\n",
        "\n",
        "# Cálculo do erro padrão\n",
        "erro_padrao = desvio_padrao_amostra / (amostra_tamanho ** 0.5)\n",
        "\n",
        "# Cálculo do intervalo de confiança\n",
        "intervalo_superior = media_amostra + t_value * erro_padrao\n",
        "intervalo_inferior = media_amostra - t_value * erro_padrao\n",
        "\n",
        "print(\"Valor de t:\", t_value)\n",
        "print(\"Intervalo de confiança:\", intervalo_inferior, \"-\", intervalo_superior)\n"
      ]
    }
  ],
  "metadata": {
    "jupytext": {
      "cell_metadata_filter": "-all",
      "main_language": "python",
      "notebook_metadata_filter": "-all"
    },
    "kernelspec": {
      "display_name": "Python 3",
      "language": "python",
      "name": "python3"
    },
    "language_info": {
      "codemirror_mode": {
        "name": "ipython",
        "version": 3
      },
      "file_extension": ".py",
      "mimetype": "text/x-python",
      "name": "python",
      "nbconvert_exporter": "python",
      "pygments_lexer": "ipython3",
      "version": "3.7.6"
    },
    "colab": {
      "provenance": []
    }
  },
  "nbformat": 4,
  "nbformat_minor": 0
}