{
  "nbformat": 4,
  "nbformat_minor": 0,
  "metadata": {
    "colab": {
      "provenance": []
    },
    "kernelspec": {
      "name": "python3",
      "display_name": "Python 3"
    },
    "language_info": {
      "name": "python"
    }
  },
  "cells": [
    {
      "cell_type": "code",
      "execution_count": 1,
      "metadata": {
        "id": "2J1-UdscasV9"
      },
      "outputs": [],
      "source": [
        "# Importação das bibliotecas\n",
        "import pandas as pd\n",
        "from sklearn.model_selection import train_test_split\n",
        "from sklearn.preprocessing import LabelEncoder\n",
        "from sklearn.metrics import confusion_matrix, accuracy_score\n",
        "from sklearn.ensemble import RandomForestClassifier"
      ]
    },
    {
      "cell_type": "code",
      "source": [
        "# Importando base de dados soybean - soja\n",
        "sb = pd.read_csv('soybean.csv')\n",
        "sb.head()"
      ],
      "metadata": {
        "colab": {
          "base_uri": "https://localhost:8080/",
          "height": 384
        },
        "id": "-L713YrqbLCE",
        "outputId": "1ca85da9-736f-40e3-b44d-8e5c02adc8fb"
      },
      "execution_count": 4,
      "outputs": [
        {
          "output_type": "execute_result",
          "data": {
            "text/plain": [
              "      date plant-stand   precip  temp hail         crop-hist area-damaged  \\\n",
              "0  october      normal  gt-norm  norm  yes       same-lst-yr    low-areas   \n",
              "1   august      normal  gt-norm  norm  yes  same-lst-two-yrs    scattered   \n",
              "2     july      normal  gt-norm  norm  yes       same-lst-yr    scattered   \n",
              "3     july      normal  gt-norm  norm  yes       same-lst-yr    scattered   \n",
              "4  october      normal  gt-norm  norm  yes  same-lst-two-yrs    scattered   \n",
              "\n",
              "     severity   seed-tmt germination  ... sclerotia fruit-pods fruit-spots  \\\n",
              "0  pot-severe       none      90-100  ...    absent       norm         dna   \n",
              "1      severe  fungicide       80-89  ...    absent       norm         dna   \n",
              "2      severe  fungicide       lt-80  ...    absent       norm         dna   \n",
              "3      severe       none       80-89  ...    absent       norm         dna   \n",
              "4  pot-severe       none       lt-80  ...    absent       norm         dna   \n",
              "\n",
              "   seed mold-growth seed-discolor seed-size shriveling roots  \\\n",
              "0  norm      absent        absent      norm     absent  norm   \n",
              "1  norm      absent        absent      norm     absent  norm   \n",
              "2  norm      absent        absent      norm     absent  norm   \n",
              "3  norm      absent        absent      norm     absent  norm   \n",
              "4  norm      absent        absent      norm     absent  norm   \n",
              "\n",
              "                   class  \n",
              "0  diaporthe-stem-canker  \n",
              "1  diaporthe-stem-canker  \n",
              "2  diaporthe-stem-canker  \n",
              "3  diaporthe-stem-canker  \n",
              "4  diaporthe-stem-canker  \n",
              "\n",
              "[5 rows x 36 columns]"
            ],
            "text/html": [
              "\n",
              "\n",
              "  <div id=\"df-8c594d25-b439-453d-800d-acc282525b17\">\n",
              "    <div class=\"colab-df-container\">\n",
              "      <div>\n",
              "<style scoped>\n",
              "    .dataframe tbody tr th:only-of-type {\n",
              "        vertical-align: middle;\n",
              "    }\n",
              "\n",
              "    .dataframe tbody tr th {\n",
              "        vertical-align: top;\n",
              "    }\n",
              "\n",
              "    .dataframe thead th {\n",
              "        text-align: right;\n",
              "    }\n",
              "</style>\n",
              "<table border=\"1\" class=\"dataframe\">\n",
              "  <thead>\n",
              "    <tr style=\"text-align: right;\">\n",
              "      <th></th>\n",
              "      <th>date</th>\n",
              "      <th>plant-stand</th>\n",
              "      <th>precip</th>\n",
              "      <th>temp</th>\n",
              "      <th>hail</th>\n",
              "      <th>crop-hist</th>\n",
              "      <th>area-damaged</th>\n",
              "      <th>severity</th>\n",
              "      <th>seed-tmt</th>\n",
              "      <th>germination</th>\n",
              "      <th>...</th>\n",
              "      <th>sclerotia</th>\n",
              "      <th>fruit-pods</th>\n",
              "      <th>fruit-spots</th>\n",
              "      <th>seed</th>\n",
              "      <th>mold-growth</th>\n",
              "      <th>seed-discolor</th>\n",
              "      <th>seed-size</th>\n",
              "      <th>shriveling</th>\n",
              "      <th>roots</th>\n",
              "      <th>class</th>\n",
              "    </tr>\n",
              "  </thead>\n",
              "  <tbody>\n",
              "    <tr>\n",
              "      <th>0</th>\n",
              "      <td>october</td>\n",
              "      <td>normal</td>\n",
              "      <td>gt-norm</td>\n",
              "      <td>norm</td>\n",
              "      <td>yes</td>\n",
              "      <td>same-lst-yr</td>\n",
              "      <td>low-areas</td>\n",
              "      <td>pot-severe</td>\n",
              "      <td>none</td>\n",
              "      <td>90-100</td>\n",
              "      <td>...</td>\n",
              "      <td>absent</td>\n",
              "      <td>norm</td>\n",
              "      <td>dna</td>\n",
              "      <td>norm</td>\n",
              "      <td>absent</td>\n",
              "      <td>absent</td>\n",
              "      <td>norm</td>\n",
              "      <td>absent</td>\n",
              "      <td>norm</td>\n",
              "      <td>diaporthe-stem-canker</td>\n",
              "    </tr>\n",
              "    <tr>\n",
              "      <th>1</th>\n",
              "      <td>august</td>\n",
              "      <td>normal</td>\n",
              "      <td>gt-norm</td>\n",
              "      <td>norm</td>\n",
              "      <td>yes</td>\n",
              "      <td>same-lst-two-yrs</td>\n",
              "      <td>scattered</td>\n",
              "      <td>severe</td>\n",
              "      <td>fungicide</td>\n",
              "      <td>80-89</td>\n",
              "      <td>...</td>\n",
              "      <td>absent</td>\n",
              "      <td>norm</td>\n",
              "      <td>dna</td>\n",
              "      <td>norm</td>\n",
              "      <td>absent</td>\n",
              "      <td>absent</td>\n",
              "      <td>norm</td>\n",
              "      <td>absent</td>\n",
              "      <td>norm</td>\n",
              "      <td>diaporthe-stem-canker</td>\n",
              "    </tr>\n",
              "    <tr>\n",
              "      <th>2</th>\n",
              "      <td>july</td>\n",
              "      <td>normal</td>\n",
              "      <td>gt-norm</td>\n",
              "      <td>norm</td>\n",
              "      <td>yes</td>\n",
              "      <td>same-lst-yr</td>\n",
              "      <td>scattered</td>\n",
              "      <td>severe</td>\n",
              "      <td>fungicide</td>\n",
              "      <td>lt-80</td>\n",
              "      <td>...</td>\n",
              "      <td>absent</td>\n",
              "      <td>norm</td>\n",
              "      <td>dna</td>\n",
              "      <td>norm</td>\n",
              "      <td>absent</td>\n",
              "      <td>absent</td>\n",
              "      <td>norm</td>\n",
              "      <td>absent</td>\n",
              "      <td>norm</td>\n",
              "      <td>diaporthe-stem-canker</td>\n",
              "    </tr>\n",
              "    <tr>\n",
              "      <th>3</th>\n",
              "      <td>july</td>\n",
              "      <td>normal</td>\n",
              "      <td>gt-norm</td>\n",
              "      <td>norm</td>\n",
              "      <td>yes</td>\n",
              "      <td>same-lst-yr</td>\n",
              "      <td>scattered</td>\n",
              "      <td>severe</td>\n",
              "      <td>none</td>\n",
              "      <td>80-89</td>\n",
              "      <td>...</td>\n",
              "      <td>absent</td>\n",
              "      <td>norm</td>\n",
              "      <td>dna</td>\n",
              "      <td>norm</td>\n",
              "      <td>absent</td>\n",
              "      <td>absent</td>\n",
              "      <td>norm</td>\n",
              "      <td>absent</td>\n",
              "      <td>norm</td>\n",
              "      <td>diaporthe-stem-canker</td>\n",
              "    </tr>\n",
              "    <tr>\n",
              "      <th>4</th>\n",
              "      <td>october</td>\n",
              "      <td>normal</td>\n",
              "      <td>gt-norm</td>\n",
              "      <td>norm</td>\n",
              "      <td>yes</td>\n",
              "      <td>same-lst-two-yrs</td>\n",
              "      <td>scattered</td>\n",
              "      <td>pot-severe</td>\n",
              "      <td>none</td>\n",
              "      <td>lt-80</td>\n",
              "      <td>...</td>\n",
              "      <td>absent</td>\n",
              "      <td>norm</td>\n",
              "      <td>dna</td>\n",
              "      <td>norm</td>\n",
              "      <td>absent</td>\n",
              "      <td>absent</td>\n",
              "      <td>norm</td>\n",
              "      <td>absent</td>\n",
              "      <td>norm</td>\n",
              "      <td>diaporthe-stem-canker</td>\n",
              "    </tr>\n",
              "  </tbody>\n",
              "</table>\n",
              "<p>5 rows × 36 columns</p>\n",
              "</div>\n",
              "      <button class=\"colab-df-convert\" onclick=\"convertToInteractive('df-8c594d25-b439-453d-800d-acc282525b17')\"\n",
              "              title=\"Convert this dataframe to an interactive table.\"\n",
              "              style=\"display:none;\">\n",
              "\n",
              "  <svg xmlns=\"http://www.w3.org/2000/svg\" height=\"24px\"viewBox=\"0 0 24 24\"\n",
              "       width=\"24px\">\n",
              "    <path d=\"M0 0h24v24H0V0z\" fill=\"none\"/>\n",
              "    <path d=\"M18.56 5.44l.94 2.06.94-2.06 2.06-.94-2.06-.94-.94-2.06-.94 2.06-2.06.94zm-11 1L8.5 8.5l.94-2.06 2.06-.94-2.06-.94L8.5 2.5l-.94 2.06-2.06.94zm10 10l.94 2.06.94-2.06 2.06-.94-2.06-.94-.94-2.06-.94 2.06-2.06.94z\"/><path d=\"M17.41 7.96l-1.37-1.37c-.4-.4-.92-.59-1.43-.59-.52 0-1.04.2-1.43.59L10.3 9.45l-7.72 7.72c-.78.78-.78 2.05 0 2.83L4 21.41c.39.39.9.59 1.41.59.51 0 1.02-.2 1.41-.59l7.78-7.78 2.81-2.81c.8-.78.8-2.07 0-2.86zM5.41 20L4 18.59l7.72-7.72 1.47 1.35L5.41 20z\"/>\n",
              "  </svg>\n",
              "      </button>\n",
              "\n",
              "\n",
              "\n",
              "    <div id=\"df-d855bec8-e680-43d2-a802-0a9bbbd5008f\">\n",
              "      <button class=\"colab-df-quickchart\" onclick=\"quickchart('df-d855bec8-e680-43d2-a802-0a9bbbd5008f')\"\n",
              "              title=\"Suggest charts.\"\n",
              "              style=\"display:none;\">\n",
              "\n",
              "<svg xmlns=\"http://www.w3.org/2000/svg\" height=\"24px\"viewBox=\"0 0 24 24\"\n",
              "     width=\"24px\">\n",
              "    <g>\n",
              "        <path d=\"M19 3H5c-1.1 0-2 .9-2 2v14c0 1.1.9 2 2 2h14c1.1 0 2-.9 2-2V5c0-1.1-.9-2-2-2zM9 17H7v-7h2v7zm4 0h-2V7h2v10zm4 0h-2v-4h2v4z\"/>\n",
              "    </g>\n",
              "</svg>\n",
              "      </button>\n",
              "    </div>\n",
              "\n",
              "<style>\n",
              "  .colab-df-quickchart {\n",
              "    background-color: #E8F0FE;\n",
              "    border: none;\n",
              "    border-radius: 50%;\n",
              "    cursor: pointer;\n",
              "    display: none;\n",
              "    fill: #1967D2;\n",
              "    height: 32px;\n",
              "    padding: 0 0 0 0;\n",
              "    width: 32px;\n",
              "  }\n",
              "\n",
              "  .colab-df-quickchart:hover {\n",
              "    background-color: #E2EBFA;\n",
              "    box-shadow: 0px 1px 2px rgba(60, 64, 67, 0.3), 0px 1px 3px 1px rgba(60, 64, 67, 0.15);\n",
              "    fill: #174EA6;\n",
              "  }\n",
              "\n",
              "  [theme=dark] .colab-df-quickchart {\n",
              "    background-color: #3B4455;\n",
              "    fill: #D2E3FC;\n",
              "  }\n",
              "\n",
              "  [theme=dark] .colab-df-quickchart:hover {\n",
              "    background-color: #434B5C;\n",
              "    box-shadow: 0px 1px 3px 1px rgba(0, 0, 0, 0.15);\n",
              "    filter: drop-shadow(0px 1px 2px rgba(0, 0, 0, 0.3));\n",
              "    fill: #FFFFFF;\n",
              "  }\n",
              "</style>\n",
              "\n",
              "    <script>\n",
              "      async function quickchart(key) {\n",
              "        const containerElement = document.querySelector('#' + key);\n",
              "        const charts = await google.colab.kernel.invokeFunction(\n",
              "            'suggestCharts', [key], {});\n",
              "      }\n",
              "    </script>\n",
              "\n",
              "      <script>\n",
              "\n",
              "function displayQuickchartButton(domScope) {\n",
              "  let quickchartButtonEl =\n",
              "    domScope.querySelector('#df-d855bec8-e680-43d2-a802-0a9bbbd5008f button.colab-df-quickchart');\n",
              "  quickchartButtonEl.style.display =\n",
              "    google.colab.kernel.accessAllowed ? 'block' : 'none';\n",
              "}\n",
              "\n",
              "        displayQuickchartButton(document);\n",
              "      </script>\n",
              "      <style>\n",
              "    .colab-df-container {\n",
              "      display:flex;\n",
              "      flex-wrap:wrap;\n",
              "      gap: 12px;\n",
              "    }\n",
              "\n",
              "    .colab-df-convert {\n",
              "      background-color: #E8F0FE;\n",
              "      border: none;\n",
              "      border-radius: 50%;\n",
              "      cursor: pointer;\n",
              "      display: none;\n",
              "      fill: #1967D2;\n",
              "      height: 32px;\n",
              "      padding: 0 0 0 0;\n",
              "      width: 32px;\n",
              "    }\n",
              "\n",
              "    .colab-df-convert:hover {\n",
              "      background-color: #E2EBFA;\n",
              "      box-shadow: 0px 1px 2px rgba(60, 64, 67, 0.3), 0px 1px 3px 1px rgba(60, 64, 67, 0.15);\n",
              "      fill: #174EA6;\n",
              "    }\n",
              "\n",
              "    [theme=dark] .colab-df-convert {\n",
              "      background-color: #3B4455;\n",
              "      fill: #D2E3FC;\n",
              "    }\n",
              "\n",
              "    [theme=dark] .colab-df-convert:hover {\n",
              "      background-color: #434B5C;\n",
              "      box-shadow: 0px 1px 3px 1px rgba(0, 0, 0, 0.15);\n",
              "      filter: drop-shadow(0px 1px 2px rgba(0, 0, 0, 0.3));\n",
              "      fill: #FFFFFF;\n",
              "    }\n",
              "  </style>\n",
              "\n",
              "      <script>\n",
              "        const buttonEl =\n",
              "          document.querySelector('#df-8c594d25-b439-453d-800d-acc282525b17 button.colab-df-convert');\n",
              "        buttonEl.style.display =\n",
              "          google.colab.kernel.accessAllowed ? 'block' : 'none';\n",
              "\n",
              "        async function convertToInteractive(key) {\n",
              "          const element = document.querySelector('#df-8c594d25-b439-453d-800d-acc282525b17');\n",
              "          const dataTable =\n",
              "            await google.colab.kernel.invokeFunction('convertToInteractive',\n",
              "                                                     [key], {});\n",
              "          if (!dataTable) return;\n",
              "\n",
              "          const docLinkHtml = 'Like what you see? Visit the ' +\n",
              "            '<a target=\"_blank\" href=https://colab.research.google.com/notebooks/data_table.ipynb>data table notebook</a>'\n",
              "            + ' to learn more about interactive tables.';\n",
              "          element.innerHTML = '';\n",
              "          dataTable['output_type'] = 'display_data';\n",
              "          await google.colab.output.renderOutput(dataTable, element);\n",
              "          const docLink = document.createElement('div');\n",
              "          docLink.innerHTML = docLinkHtml;\n",
              "          element.appendChild(docLink);\n",
              "        }\n",
              "      </script>\n",
              "    </div>\n",
              "  </div>\n"
            ]
          },
          "metadata": {},
          "execution_count": 4
        }
      ]
    },
    {
      "cell_type": "code",
      "source": [
        "sb.shape"
      ],
      "metadata": {
        "colab": {
          "base_uri": "https://localhost:8080/"
        },
        "id": "9Go4_GhDbV_E",
        "outputId": "be332a9a-3eb0-4075-e72f-1f25d031fca7"
      },
      "execution_count": 5,
      "outputs": [
        {
          "output_type": "execute_result",
          "data": {
            "text/plain": [
              "(683, 36)"
            ]
          },
          "metadata": {},
          "execution_count": 5
        }
      ]
    },
    {
      "cell_type": "code",
      "source": [
        "# validando as diferentes classes - problema da planta\n",
        "\n",
        "group = sb['class'].value_counts()\n",
        "group"
      ],
      "metadata": {
        "colab": {
          "base_uri": "https://localhost:8080/"
        },
        "id": "fwiv4hylcPmI",
        "outputId": "8e71f59c-805a-41dc-9940-f63aa653359a"
      },
      "execution_count": 18,
      "outputs": [
        {
          "output_type": "execute_result",
          "data": {
            "text/plain": [
              "brown-spot                     92\n",
              "frog-eye-leaf-spot             91\n",
              "alternarialeaf-spot            91\n",
              "phytophthora-rot               88\n",
              "brown-stem-rot                 44\n",
              "anthracnose                    44\n",
              "diaporthe-stem-canker          20\n",
              "purple-seed-stain              20\n",
              "phyllosticta-leaf-spot         20\n",
              "bacterial-pustule              20\n",
              "charcoal-rot                   20\n",
              "bacterial-blight               20\n",
              "downy-mildew                   20\n",
              "powdery-mildew                 20\n",
              "rhizoctonia-root-rot           20\n",
              "2-4-d-injury                   16\n",
              "diaporthe-pod-&-stem-blight    15\n",
              "cyst-nematode                  14\n",
              "herbicide-injury                8\n",
              "Name: class, dtype: int64"
            ]
          },
          "metadata": {},
          "execution_count": 18
        }
      ]
    },
    {
      "cell_type": "code",
      "source": [
        "# contando número de classes diferentes\n",
        "\n",
        "sb['class'].nunique()"
      ],
      "metadata": {
        "colab": {
          "base_uri": "https://localhost:8080/"
        },
        "id": "5bRIuLdafOjb",
        "outputId": "c217e3c9-2dae-4f52-c390-f769bf8f211f"
      },
      "execution_count": 19,
      "outputs": [
        {
          "output_type": "execute_result",
          "data": {
            "text/plain": [
              "19"
            ]
          },
          "metadata": {},
          "execution_count": 19
        }
      ]
    },
    {
      "cell_type": "code",
      "source": [
        "previsores = sb.iloc[:,0:35].values\n",
        "classe = sb.iloc[:,35].values"
      ],
      "metadata": {
        "id": "9mmITQ8zbkdR"
      },
      "execution_count": 6,
      "outputs": []
    },
    {
      "cell_type": "code",
      "source": [
        "# Transformação dos atributos categóricos em atributos numéricos, passando o índice de cada atributo categórico\n",
        "labelencoder = LabelEncoder()\n",
        "previsores[:, 0] = labelencoder.fit_transform(previsores[:, 0])\n",
        "previsores[:, 1] = labelencoder.fit_transform(previsores[:, 1])\n",
        "previsores[:, 2] = labelencoder.fit_transform(previsores[:, 2])\n",
        "previsores[:, 3] = labelencoder.fit_transform(previsores[:, 3])\n",
        "previsores[:, 4] = labelencoder.fit_transform(previsores[:, 4])\n",
        "previsores[:, 5] = labelencoder.fit_transform(previsores[:, 5])\n",
        "previsores[:, 6] = labelencoder.fit_transform(previsores[:, 6])\n",
        "previsores[:, 7] = labelencoder.fit_transform(previsores[:, 7])\n",
        "previsores[:, 8] = labelencoder.fit_transform(previsores[:, 8])\n",
        "previsores[:, 9] = labelencoder.fit_transform(previsores[:, 9])\n",
        "previsores[:, 10] = labelencoder.fit_transform(previsores[:, 10])\n",
        "previsores[:, 11] = labelencoder.fit_transform(previsores[:, 11])\n",
        "previsores[:, 12] = labelencoder.fit_transform(previsores[:, 12])\n",
        "previsores[:, 13] = labelencoder.fit_transform(previsores[:, 13])\n",
        "previsores[:, 14] = labelencoder.fit_transform(previsores[:, 14])\n",
        "previsores[:, 15] = labelencoder.fit_transform(previsores[:, 15])\n",
        "previsores[:, 16] = labelencoder.fit_transform(previsores[:, 16])\n",
        "previsores[:, 17] = labelencoder.fit_transform(previsores[:, 17])\n",
        "previsores[:, 18] = labelencoder.fit_transform(previsores[:, 18])\n",
        "previsores[:, 19] = labelencoder.fit_transform(previsores[:, 19])\n",
        "previsores[:, 20] = labelencoder.fit_transform(previsores[:, 20])\n",
        "previsores[:, 21] = labelencoder.fit_transform(previsores[:, 21])\n",
        "previsores[:, 22] = labelencoder.fit_transform(previsores[:, 22])\n",
        "previsores[:, 23] = labelencoder.fit_transform(previsores[:, 23])\n",
        "previsores[:, 24] = labelencoder.fit_transform(previsores[:, 24])\n",
        "previsores[:, 25] = labelencoder.fit_transform(previsores[:, 25])\n",
        "previsores[:, 26] = labelencoder.fit_transform(previsores[:, 26])\n",
        "previsores[:, 27] = labelencoder.fit_transform(previsores[:, 27])\n",
        "previsores[:, 28] = labelencoder.fit_transform(previsores[:, 28])\n",
        "previsores[:, 29] = labelencoder.fit_transform(previsores[:, 29])\n",
        "previsores[:, 30] = labelencoder.fit_transform(previsores[:, 30])\n",
        "previsores[:, 31] = labelencoder.fit_transform(previsores[:, 31])\n",
        "previsores[:, 32] = labelencoder.fit_transform(previsores[:, 32])\n",
        "previsores[:, 33] = labelencoder.fit_transform(previsores[:, 33])\n",
        "previsores[:, 34] = labelencoder.fit_transform(previsores[:, 34])"
      ],
      "metadata": {
        "id": "eRh7SqzrcDTU"
      },
      "execution_count": 21,
      "outputs": []
    },
    {
      "cell_type": "code",
      "source": [
        "# Divisão da base de dados entre treinamento e teste (30% para testar e 70% para treinar)\n",
        "X_treinamento, X_teste, y_treinamento, y_teste = train_test_split(previsores,\n",
        "                                                                  classe,\n",
        "                                                                  test_size = 0.3,\n",
        "                                                                  random_state = 0)"
      ],
      "metadata": {
        "id": "yx3at__pguZG"
      },
      "execution_count": 22,
      "outputs": []
    },
    {
      "cell_type": "code",
      "source": [
        "# Criação do modelo, treinamento, obtenção das previsões e da taxa de acerto\n",
        "floresta = RandomForestClassifier(n_estimators = 100)\n",
        "floresta.fit(X_treinamento, y_treinamento)"
      ],
      "metadata": {
        "colab": {
          "base_uri": "https://localhost:8080/",
          "height": 75
        },
        "id": "iQe5aOMug0oG",
        "outputId": "884605bd-7de3-4652-ab79-52d4d3ee5622"
      },
      "execution_count": 23,
      "outputs": [
        {
          "output_type": "execute_result",
          "data": {
            "text/plain": [
              "RandomForestClassifier()"
            ],
            "text/html": [
              "<style>#sk-container-id-1 {color: black;background-color: white;}#sk-container-id-1 pre{padding: 0;}#sk-container-id-1 div.sk-toggleable {background-color: white;}#sk-container-id-1 label.sk-toggleable__label {cursor: pointer;display: block;width: 100%;margin-bottom: 0;padding: 0.3em;box-sizing: border-box;text-align: center;}#sk-container-id-1 label.sk-toggleable__label-arrow:before {content: \"▸\";float: left;margin-right: 0.25em;color: #696969;}#sk-container-id-1 label.sk-toggleable__label-arrow:hover:before {color: black;}#sk-container-id-1 div.sk-estimator:hover label.sk-toggleable__label-arrow:before {color: black;}#sk-container-id-1 div.sk-toggleable__content {max-height: 0;max-width: 0;overflow: hidden;text-align: left;background-color: #f0f8ff;}#sk-container-id-1 div.sk-toggleable__content pre {margin: 0.2em;color: black;border-radius: 0.25em;background-color: #f0f8ff;}#sk-container-id-1 input.sk-toggleable__control:checked~div.sk-toggleable__content {max-height: 200px;max-width: 100%;overflow: auto;}#sk-container-id-1 input.sk-toggleable__control:checked~label.sk-toggleable__label-arrow:before {content: \"▾\";}#sk-container-id-1 div.sk-estimator input.sk-toggleable__control:checked~label.sk-toggleable__label {background-color: #d4ebff;}#sk-container-id-1 div.sk-label input.sk-toggleable__control:checked~label.sk-toggleable__label {background-color: #d4ebff;}#sk-container-id-1 input.sk-hidden--visually {border: 0;clip: rect(1px 1px 1px 1px);clip: rect(1px, 1px, 1px, 1px);height: 1px;margin: -1px;overflow: hidden;padding: 0;position: absolute;width: 1px;}#sk-container-id-1 div.sk-estimator {font-family: monospace;background-color: #f0f8ff;border: 1px dotted black;border-radius: 0.25em;box-sizing: border-box;margin-bottom: 0.5em;}#sk-container-id-1 div.sk-estimator:hover {background-color: #d4ebff;}#sk-container-id-1 div.sk-parallel-item::after {content: \"\";width: 100%;border-bottom: 1px solid gray;flex-grow: 1;}#sk-container-id-1 div.sk-label:hover label.sk-toggleable__label {background-color: #d4ebff;}#sk-container-id-1 div.sk-serial::before {content: \"\";position: absolute;border-left: 1px solid gray;box-sizing: border-box;top: 0;bottom: 0;left: 50%;z-index: 0;}#sk-container-id-1 div.sk-serial {display: flex;flex-direction: column;align-items: center;background-color: white;padding-right: 0.2em;padding-left: 0.2em;position: relative;}#sk-container-id-1 div.sk-item {position: relative;z-index: 1;}#sk-container-id-1 div.sk-parallel {display: flex;align-items: stretch;justify-content: center;background-color: white;position: relative;}#sk-container-id-1 div.sk-item::before, #sk-container-id-1 div.sk-parallel-item::before {content: \"\";position: absolute;border-left: 1px solid gray;box-sizing: border-box;top: 0;bottom: 0;left: 50%;z-index: -1;}#sk-container-id-1 div.sk-parallel-item {display: flex;flex-direction: column;z-index: 1;position: relative;background-color: white;}#sk-container-id-1 div.sk-parallel-item:first-child::after {align-self: flex-end;width: 50%;}#sk-container-id-1 div.sk-parallel-item:last-child::after {align-self: flex-start;width: 50%;}#sk-container-id-1 div.sk-parallel-item:only-child::after {width: 0;}#sk-container-id-1 div.sk-dashed-wrapped {border: 1px dashed gray;margin: 0 0.4em 0.5em 0.4em;box-sizing: border-box;padding-bottom: 0.4em;background-color: white;}#sk-container-id-1 div.sk-label label {font-family: monospace;font-weight: bold;display: inline-block;line-height: 1.2em;}#sk-container-id-1 div.sk-label-container {text-align: center;}#sk-container-id-1 div.sk-container {/* jupyter's `normalize.less` sets `[hidden] { display: none; }` but bootstrap.min.css set `[hidden] { display: none !important; }` so we also need the `!important` here to be able to override the default hidden behavior on the sphinx rendered scikit-learn.org. See: https://github.com/scikit-learn/scikit-learn/issues/21755 */display: inline-block !important;position: relative;}#sk-container-id-1 div.sk-text-repr-fallback {display: none;}</style><div id=\"sk-container-id-1\" class=\"sk-top-container\"><div class=\"sk-text-repr-fallback\"><pre>RandomForestClassifier()</pre><b>In a Jupyter environment, please rerun this cell to show the HTML representation or trust the notebook. <br />On GitHub, the HTML representation is unable to render, please try loading this page with nbviewer.org.</b></div><div class=\"sk-container\" hidden><div class=\"sk-item\"><div class=\"sk-estimator sk-toggleable\"><input class=\"sk-toggleable__control sk-hidden--visually\" id=\"sk-estimator-id-1\" type=\"checkbox\" checked><label for=\"sk-estimator-id-1\" class=\"sk-toggleable__label sk-toggleable__label-arrow\">RandomForestClassifier</label><div class=\"sk-toggleable__content\"><pre>RandomForestClassifier()</pre></div></div></div></div></div>"
            ]
          },
          "metadata": {},
          "execution_count": 23
        }
      ]
    },
    {
      "cell_type": "code",
      "source": [
        "# Visualização dos atributos principais\n",
        "#floresta.estimators_\n",
        "floresta.estimators_[1]"
      ],
      "metadata": {
        "colab": {
          "base_uri": "https://localhost:8080/",
          "height": 75
        },
        "id": "VFFPHHqpg8VD",
        "outputId": "6952d1be-4c14-49dc-ac97-e0dee24ce8db"
      },
      "execution_count": 25,
      "outputs": [
        {
          "output_type": "execute_result",
          "data": {
            "text/plain": [
              "DecisionTreeClassifier(max_features='sqrt', random_state=720010462)"
            ],
            "text/html": [
              "<style>#sk-container-id-2 {color: black;background-color: white;}#sk-container-id-2 pre{padding: 0;}#sk-container-id-2 div.sk-toggleable {background-color: white;}#sk-container-id-2 label.sk-toggleable__label {cursor: pointer;display: block;width: 100%;margin-bottom: 0;padding: 0.3em;box-sizing: border-box;text-align: center;}#sk-container-id-2 label.sk-toggleable__label-arrow:before {content: \"▸\";float: left;margin-right: 0.25em;color: #696969;}#sk-container-id-2 label.sk-toggleable__label-arrow:hover:before {color: black;}#sk-container-id-2 div.sk-estimator:hover label.sk-toggleable__label-arrow:before {color: black;}#sk-container-id-2 div.sk-toggleable__content {max-height: 0;max-width: 0;overflow: hidden;text-align: left;background-color: #f0f8ff;}#sk-container-id-2 div.sk-toggleable__content pre {margin: 0.2em;color: black;border-radius: 0.25em;background-color: #f0f8ff;}#sk-container-id-2 input.sk-toggleable__control:checked~div.sk-toggleable__content {max-height: 200px;max-width: 100%;overflow: auto;}#sk-container-id-2 input.sk-toggleable__control:checked~label.sk-toggleable__label-arrow:before {content: \"▾\";}#sk-container-id-2 div.sk-estimator input.sk-toggleable__control:checked~label.sk-toggleable__label {background-color: #d4ebff;}#sk-container-id-2 div.sk-label input.sk-toggleable__control:checked~label.sk-toggleable__label {background-color: #d4ebff;}#sk-container-id-2 input.sk-hidden--visually {border: 0;clip: rect(1px 1px 1px 1px);clip: rect(1px, 1px, 1px, 1px);height: 1px;margin: -1px;overflow: hidden;padding: 0;position: absolute;width: 1px;}#sk-container-id-2 div.sk-estimator {font-family: monospace;background-color: #f0f8ff;border: 1px dotted black;border-radius: 0.25em;box-sizing: border-box;margin-bottom: 0.5em;}#sk-container-id-2 div.sk-estimator:hover {background-color: #d4ebff;}#sk-container-id-2 div.sk-parallel-item::after {content: \"\";width: 100%;border-bottom: 1px solid gray;flex-grow: 1;}#sk-container-id-2 div.sk-label:hover label.sk-toggleable__label {background-color: #d4ebff;}#sk-container-id-2 div.sk-serial::before {content: \"\";position: absolute;border-left: 1px solid gray;box-sizing: border-box;top: 0;bottom: 0;left: 50%;z-index: 0;}#sk-container-id-2 div.sk-serial {display: flex;flex-direction: column;align-items: center;background-color: white;padding-right: 0.2em;padding-left: 0.2em;position: relative;}#sk-container-id-2 div.sk-item {position: relative;z-index: 1;}#sk-container-id-2 div.sk-parallel {display: flex;align-items: stretch;justify-content: center;background-color: white;position: relative;}#sk-container-id-2 div.sk-item::before, #sk-container-id-2 div.sk-parallel-item::before {content: \"\";position: absolute;border-left: 1px solid gray;box-sizing: border-box;top: 0;bottom: 0;left: 50%;z-index: -1;}#sk-container-id-2 div.sk-parallel-item {display: flex;flex-direction: column;z-index: 1;position: relative;background-color: white;}#sk-container-id-2 div.sk-parallel-item:first-child::after {align-self: flex-end;width: 50%;}#sk-container-id-2 div.sk-parallel-item:last-child::after {align-self: flex-start;width: 50%;}#sk-container-id-2 div.sk-parallel-item:only-child::after {width: 0;}#sk-container-id-2 div.sk-dashed-wrapped {border: 1px dashed gray;margin: 0 0.4em 0.5em 0.4em;box-sizing: border-box;padding-bottom: 0.4em;background-color: white;}#sk-container-id-2 div.sk-label label {font-family: monospace;font-weight: bold;display: inline-block;line-height: 1.2em;}#sk-container-id-2 div.sk-label-container {text-align: center;}#sk-container-id-2 div.sk-container {/* jupyter's `normalize.less` sets `[hidden] { display: none; }` but bootstrap.min.css set `[hidden] { display: none !important; }` so we also need the `!important` here to be able to override the default hidden behavior on the sphinx rendered scikit-learn.org. See: https://github.com/scikit-learn/scikit-learn/issues/21755 */display: inline-block !important;position: relative;}#sk-container-id-2 div.sk-text-repr-fallback {display: none;}</style><div id=\"sk-container-id-2\" class=\"sk-top-container\"><div class=\"sk-text-repr-fallback\"><pre>DecisionTreeClassifier(max_features=&#x27;sqrt&#x27;, random_state=720010462)</pre><b>In a Jupyter environment, please rerun this cell to show the HTML representation or trust the notebook. <br />On GitHub, the HTML representation is unable to render, please try loading this page with nbviewer.org.</b></div><div class=\"sk-container\" hidden><div class=\"sk-item\"><div class=\"sk-estimator sk-toggleable\"><input class=\"sk-toggleable__control sk-hidden--visually\" id=\"sk-estimator-id-2\" type=\"checkbox\" checked><label for=\"sk-estimator-id-2\" class=\"sk-toggleable__label sk-toggleable__label-arrow\">DecisionTreeClassifier</label><div class=\"sk-toggleable__content\"><pre>DecisionTreeClassifier(max_features=&#x27;sqrt&#x27;, random_state=720010462)</pre></div></div></div></div></div>"
            ]
          },
          "metadata": {},
          "execution_count": 25
        }
      ]
    },
    {
      "cell_type": "code",
      "source": [
        "previsoes = floresta.predict(X_teste)\n",
        "confusao = confusion_matrix(y_teste, previsoes)\n",
        "taxa_acerto = accuracy_score(y_teste, previsoes)\n",
        "taxa_acerto"
      ],
      "metadata": {
        "colab": {
          "base_uri": "https://localhost:8080/"
        },
        "id": "ranrtRDZhIxr",
        "outputId": "5a192b13-338f-4e37-b90e-a8c63c8ebae8"
      },
      "execution_count": 28,
      "outputs": [
        {
          "output_type": "execute_result",
          "data": {
            "text/plain": [
              "0.9658536585365853"
            ]
          },
          "metadata": {},
          "execution_count": 28
        }
      ]
    }
  ]
}